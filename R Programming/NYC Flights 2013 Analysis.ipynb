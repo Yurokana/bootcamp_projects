{
 "cells":[
  {
   "cell_type":"markdown",
   "source":[
    "# Start 🛫\n",
    "## NYC Flights 2013 Analysis ❗"
   ],
   "attachments":{
    
   },
   "metadata":{
    "datalore":{
     "node_id":"4D4eZrvQ14g9BDhbrEB3Gl",
     "type":"MD",
     "hide_input_from_viewers":false,
     "hide_output_from_viewers":false,
     "report_properties":{
      "y":0
     }
    }
   }
  },
  {
   "cell_type":"code",
   "source":[
    "# import library\n",
    "library(tidyverse)"
   ],
   "execution_count":2,
   "outputs":[
    {
     "name":"stderr",
     "text":[
      "Warning message in system(\"timedatectl\", intern = TRUE):\n",
      "“running command 'timedatectl' had status 1”\n",
      "Warning message:\n",
      "“Failed to locate timezone database”\n",
      "── \u001b[1mAttaching packages\u001b[22m ─────────────────────────────────────── tidyverse 1.3.1 ──\n",
      "\n",
      "\u001b[32m✔\u001b[39m \u001b[34mggplot2\u001b[39m 3.3.5     \u001b[32m✔\u001b[39m \u001b[34mpurrr  \u001b[39m 0.3.4\n",
      "\u001b[32m✔\u001b[39m \u001b[34mtibble \u001b[39m 3.1.5     \u001b[32m✔\u001b[39m \u001b[34mdplyr  \u001b[39m 1.0.7\n",
      "\u001b[32m✔\u001b[39m \u001b[34mtidyr  \u001b[39m 1.1.4     \u001b[32m✔\u001b[39m \u001b[34mstringr\u001b[39m 1.4.0\n",
      "\u001b[32m✔\u001b[39m \u001b[34mreadr  \u001b[39m 2.0.2     \u001b[32m✔\u001b[39m \u001b[34mforcats\u001b[39m 0.5.1\n",
      "\n",
      "── \u001b[1mConflicts\u001b[22m ────────────────────────────────────────── tidyverse_conflicts() ──\n",
      "\u001b[31m✖\u001b[39m \u001b[34mdplyr\u001b[39m::\u001b[32mfilter()\u001b[39m  masks \u001b[34mstats\u001b[39m::filter()\n",
      "\u001b[31m✖\u001b[39m \u001b[34mpurrr\u001b[39m::\u001b[32mflatten()\u001b[39m masks \u001b[34mjsonlite\u001b[39m::flatten()\n",
      "\u001b[31m✖\u001b[39m \u001b[34mdplyr\u001b[39m::\u001b[32mlag()\u001b[39m     masks \u001b[34mstats\u001b[39m::lag()\n",
      "\n"
     ],
     "output_type":"stream"
    }
   ],
   "metadata":{
    "datalore":{
     "node_id":"1SXrSr2B1n4o8fz47elmKf",
     "type":"CODE",
     "hide_input_from_viewers":false,
     "hide_output_from_viewers":false,
     "report_properties":{
      "y":5
     }
    }
   }
  },
  {
   "cell_type":"code",
   "source":[
    "# data\n",
    "flights <- read_csv(\"flights.csv\")\n",
    "airlines <- read_csv(\"airlines.csv\")"
   ],
   "execution_count":3,
   "outputs":[
    {
     "name":"stderr",
     "text":[
      "\u001b[1m\u001b[1mRows: \u001b[1m\u001b[22m\u001b[34m\u001b[34m336776\u001b[34m\u001b[39m \u001b[1m\u001b[1mColumns: \u001b[1m\u001b[22m\u001b[34m\u001b[34m19\u001b[34m\u001b[39m\n",
      "\n",
      "\u001b[36m──\u001b[39m \u001b[1m\u001b[1mColumn specification\u001b[1m\u001b[22m \u001b[36m────────────────────────────────────────────────────────\u001b[39m\n",
      "\u001b[1mDelimiter:\u001b[22m \",\"\n",
      "\u001b[31mchr\u001b[39m   (4): carrier, tailnum, origin, dest\n",
      "\u001b[32mdbl\u001b[39m  (14): year, month, day, dep_time, sched_dep_time, dep_delay, arr_time, ...\n",
      "\u001b[34mdttm\u001b[39m  (1): time_hour\n",
      "\n",
      "\n",
      "\u001b[36mℹ\u001b[39m Use \u001b[30m\u001b[47m\u001b[30m\u001b[47m`spec()`\u001b[47m\u001b[30m\u001b[49m\u001b[39m to retrieve the full column specification for this data.\n",
      "\u001b[36mℹ\u001b[39m Specify the column types or set \u001b[30m\u001b[47m\u001b[30m\u001b[47m`show_col_types = FALSE`\u001b[47m\u001b[30m\u001b[49m\u001b[39m to quiet this message.\n",
      "\n",
      "\u001b[1m\u001b[1mRows: \u001b[1m\u001b[22m\u001b[34m\u001b[34m16\u001b[34m\u001b[39m \u001b[1m\u001b[1mColumns: \u001b[1m\u001b[22m\u001b[34m\u001b[34m2\u001b[34m\u001b[39m\n",
      "\n",
      "\u001b[36m──\u001b[39m \u001b[1m\u001b[1mColumn specification\u001b[1m\u001b[22m \u001b[36m────────────────────────────────────────────────────────\u001b[39m\n",
      "\u001b[1mDelimiter:\u001b[22m \",\"\n",
      "\u001b[31mchr\u001b[39m (2): carrier, name\n",
      "\n",
      "\n",
      "\u001b[36mℹ\u001b[39m Use \u001b[30m\u001b[47m\u001b[30m\u001b[47m`spec()`\u001b[47m\u001b[30m\u001b[49m\u001b[39m to retrieve the full column specification for this data.\n",
      "\u001b[36mℹ\u001b[39m Specify the column types or set \u001b[30m\u001b[47m\u001b[30m\u001b[47m`show_col_types = FALSE`\u001b[47m\u001b[30m\u001b[49m\u001b[39m to quiet this message.\n",
      "\n"
     ],
     "output_type":"stream"
    }
   ],
   "metadata":{
    "datalore":{
     "node_id":"p62UPCD2av7SOHLejInntv",
     "type":"CODE",
     "hide_input_from_viewers":false,
     "hide_output_from_viewers":false,
     "report_properties":{
      "y":18
     }
    }
   }
  },
  {
   "cell_type":"code",
   "source":[
    "glimpse(flights)"
   ],
   "execution_count":4,
   "outputs":[
    {
     "name":"stdout",
     "text":[
      "Rows: 336,776\n",
      "Columns: 19\n",
      "$ year           \u001b[3m\u001b[90m<dbl>\u001b[39m\u001b[23m 2013, 2013, 2013, 2013, 2013, 2013, 2013, 2013, 2013, 2…\n",
      "$ month          \u001b[3m\u001b[90m<dbl>\u001b[39m\u001b[23m 1, 1, 1, 1, 1, 1, 1, 1, 1, 1, 1, 1, 1, 1, 1, 1, 1, 1, 1…\n",
      "$ day            \u001b[3m\u001b[90m<dbl>\u001b[39m\u001b[23m 1, 1, 1, 1, 1, 1, 1, 1, 1, 1, 1, 1, 1, 1, 1, 1, 1, 1, 1…\n",
      "$ dep_time       \u001b[3m\u001b[90m<dbl>\u001b[39m\u001b[23m 517, 533, 542, 544, 554, 554, 555, 557, 557, 558, 558, …\n",
      "$ sched_dep_time \u001b[3m\u001b[90m<dbl>\u001b[39m\u001b[23m 515, 529, 540, 545, 600, 558, 600, 600, 600, 600, 600, …\n",
      "$ dep_delay      \u001b[3m\u001b[90m<dbl>\u001b[39m\u001b[23m 2, 4, 2, -1, -6, -4, -5, -3, -3, -2, -2, -2, -2, -2, -1…\n",
      "$ arr_time       \u001b[3m\u001b[90m<dbl>\u001b[39m\u001b[23m 830, 850, 923, 1004, 812, 740, 913, 709, 838, 753, 849,…\n",
      "$ sched_arr_time \u001b[3m\u001b[90m<dbl>\u001b[39m\u001b[23m 819, 830, 850, 1022, 837, 728, 854, 723, 846, 745, 851,…\n",
      "$ arr_delay      \u001b[3m\u001b[90m<dbl>\u001b[39m\u001b[23m 11, 20, 33, -18, -25, 12, 19, -14, -8, 8, -2, -3, 7, -1…\n",
      "$ carrier        \u001b[3m\u001b[90m<chr>\u001b[39m\u001b[23m \"UA\", \"UA\", \"AA\", \"B6\", \"DL\", \"UA\", \"B6\", \"EV\", \"B6\", \"…\n",
      "$ flight         \u001b[3m\u001b[90m<dbl>\u001b[39m\u001b[23m 1545, 1714, 1141, 725, 461, 1696, 507, 5708, 79, 301, 4…\n",
      "$ tailnum        \u001b[3m\u001b[90m<chr>\u001b[39m\u001b[23m \"N14228\", \"N24211\", \"N619AA\", \"N804JB\", \"N668DN\", \"N394…\n",
      "$ origin         \u001b[3m\u001b[90m<chr>\u001b[39m\u001b[23m \"EWR\", \"LGA\", \"JFK\", \"JFK\", \"LGA\", \"EWR\", \"EWR\", \"LGA\",…\n",
      "$ dest           \u001b[3m\u001b[90m<chr>\u001b[39m\u001b[23m \"IAH\", \"IAH\", \"MIA\", \"BQN\", \"ATL\", \"ORD\", \"FLL\", \"IAD\",…\n",
      "$ air_time       \u001b[3m\u001b[90m<dbl>\u001b[39m\u001b[23m 227, 227, 160, 183, 116, 150, 158, 53, 140, 138, 149, 1…\n",
      "$ distance       \u001b[3m\u001b[90m<dbl>\u001b[39m\u001b[23m 1400, 1416, 1089, 1576, 762, 719, 1065, 229, 944, 733, …\n",
      "$ hour           \u001b[3m\u001b[90m<dbl>\u001b[39m\u001b[23m 5, 5, 5, 5, 6, 5, 6, 6, 6, 6, 6, 6, 6, 6, 6, 5, 6, 6, 6…\n",
      "$ minute         \u001b[3m\u001b[90m<dbl>\u001b[39m\u001b[23m 15, 29, 40, 45, 0, 58, 0, 0, 0, 0, 0, 0, 0, 0, 0, 59, 0…\n",
      "$ time_hour      \u001b[3m\u001b[90m<dttm>\u001b[39m\u001b[23m 2013-01-01 10:00:00, 2013-01-01 10:00:00, 2013-01-01 1…\n"
     ],
     "output_type":"stream"
    }
   ],
   "metadata":{
    "datalore":{
     "node_id":"W2F1RIAvjPojZCJV2hH2v2",
     "type":"CODE",
     "hide_input_from_viewers":false,
     "hide_output_from_viewers":false,
     "report_properties":{
      "y":32
     }
    }
   }
  },
  {
   "cell_type":"code",
   "source":[
    "complete.cases(flights)\n",
    "print(paste(\"Complete values =\",sum(complete.cases(flights))\/nrow(flights)*100,\"%\"))\n",
    "print(paste(\"Missing values =\",100-sum(complete.cases(flights))\/nrow(flights)*100,\"%\"))"
   ],
   "execution_count":5,
   "outputs":[
    {
     "name":"stdout",
     "text":[
      "[1] \"Complete values = 97.1999192341497 %\"\n",
      "[1] \"Missing values = 2.8000807658503 %\"\n"
     ],
     "output_type":"stream"
    },
    {
     "data":{
      "text\/html":[
       "<style>\n",
       ".list-inline {list-style: none; margin:0; padding: 0}\n",
       ".list-inline>li {display: inline-block}\n",
       ".list-inline>li:not(:last-child)::after {content: \"\\00b7\"; padding: 0 .5ex}\n",
       "<\/style>\n",
       "<ol class=list-inline><li>TRUE<\/li><li>TRUE<\/li><li>TRUE<\/li><li>TRUE<\/li><li>TRUE<\/li><li>TRUE<\/li><li>TRUE<\/li><li>TRUE<\/li><li>TRUE<\/li><li>TRUE<\/li><li>TRUE<\/li><li>TRUE<\/li><li>TRUE<\/li><li>TRUE<\/li><li>TRUE<\/li><li>TRUE<\/li><li>TRUE<\/li><li>TRUE<\/li><li>TRUE<\/li><li>TRUE<\/li><li>TRUE<\/li><li>TRUE<\/li><li>TRUE<\/li><li>TRUE<\/li><li>TRUE<\/li><li>TRUE<\/li><li>TRUE<\/li><li>TRUE<\/li><li>TRUE<\/li><li>TRUE<\/li><li>TRUE<\/li><li>TRUE<\/li><li>TRUE<\/li><li>TRUE<\/li><li>TRUE<\/li><li>TRUE<\/li><li>TRUE<\/li><li>TRUE<\/li><li>TRUE<\/li><li>TRUE<\/li><li>TRUE<\/li><li>TRUE<\/li><li>TRUE<\/li><li>TRUE<\/li><li>TRUE<\/li><li>TRUE<\/li><li>TRUE<\/li><li>TRUE<\/li><li>TRUE<\/li><li>TRUE<\/li><li>TRUE<\/li><li>TRUE<\/li><li>TRUE<\/li><li>TRUE<\/li><li>TRUE<\/li><li>TRUE<\/li><li>TRUE<\/li><li>TRUE<\/li><li>TRUE<\/li><li>TRUE<\/li><li>TRUE<\/li><li>TRUE<\/li><li>TRUE<\/li><li>TRUE<\/li><li>TRUE<\/li><li>TRUE<\/li><li>TRUE<\/li><li>TRUE<\/li><li>TRUE<\/li><li>TRUE<\/li><li>TRUE<\/li><li>TRUE<\/li><li>TRUE<\/li><li>TRUE<\/li><li>TRUE<\/li><li>TRUE<\/li><li>TRUE<\/li><li>TRUE<\/li><li>TRUE<\/li><li>TRUE<\/li><li>TRUE<\/li><li>TRUE<\/li><li>TRUE<\/li><li>TRUE<\/li><li>TRUE<\/li><li>TRUE<\/li><li>TRUE<\/li><li>TRUE<\/li><li>TRUE<\/li><li>TRUE<\/li><li>TRUE<\/li><li>TRUE<\/li><li>TRUE<\/li><li>TRUE<\/li><li>TRUE<\/li><li>TRUE<\/li><li>TRUE<\/li><li>TRUE<\/li><li>TRUE<\/li><li>TRUE<\/li><li>TRUE<\/li><li>TRUE<\/li><li>TRUE<\/li><li>TRUE<\/li><li>TRUE<\/li><li>TRUE<\/li><li>TRUE<\/li><li>TRUE<\/li><li>TRUE<\/li><li>TRUE<\/li><li>TRUE<\/li><li>TRUE<\/li><li>TRUE<\/li><li>TRUE<\/li><li>TRUE<\/li><li>TRUE<\/li><li>TRUE<\/li><li>TRUE<\/li><li>TRUE<\/li><li>TRUE<\/li><li>TRUE<\/li><li>TRUE<\/li><li>TRUE<\/li><li>TRUE<\/li><li>TRUE<\/li><li>TRUE<\/li><li>TRUE<\/li><li>TRUE<\/li><li>TRUE<\/li><li>TRUE<\/li><li>TRUE<\/li><li>TRUE<\/li><li>TRUE<\/li><li>TRUE<\/li><li>TRUE<\/li><li>TRUE<\/li><li>TRUE<\/li><li>TRUE<\/li><li>TRUE<\/li><li>TRUE<\/li><li>TRUE<\/li><li>TRUE<\/li><li>TRUE<\/li><li>TRUE<\/li><li>TRUE<\/li><li>TRUE<\/li><li>TRUE<\/li><li>TRUE<\/li><li>TRUE<\/li><li>TRUE<\/li><li>TRUE<\/li><li>TRUE<\/li><li>TRUE<\/li><li>TRUE<\/li><li>TRUE<\/li><li>TRUE<\/li><li>TRUE<\/li><li>TRUE<\/li><li>TRUE<\/li><li>TRUE<\/li><li>TRUE<\/li><li>TRUE<\/li><li>TRUE<\/li><li>TRUE<\/li><li>TRUE<\/li><li>TRUE<\/li><li>TRUE<\/li><li>TRUE<\/li><li>TRUE<\/li><li>TRUE<\/li><li>TRUE<\/li><li>TRUE<\/li><li>TRUE<\/li><li>TRUE<\/li><li>TRUE<\/li><li>TRUE<\/li><li>TRUE<\/li><li>TRUE<\/li><li>TRUE<\/li><li>TRUE<\/li><li>TRUE<\/li><li>TRUE<\/li><li>TRUE<\/li><li>TRUE<\/li><li>TRUE<\/li><li>TRUE<\/li><li>TRUE<\/li><li>TRUE<\/li><li>TRUE<\/li><li>TRUE<\/li><li>TRUE<\/li><li>TRUE<\/li><li>TRUE<\/li><li>TRUE<\/li><li>TRUE<\/li><li>TRUE<\/li><li>TRUE<\/li><li>TRUE<\/li><li>TRUE<\/li><li>TRUE<\/li><li>⋯<\/li><li>TRUE<\/li><li>TRUE<\/li><li>TRUE<\/li><li>TRUE<\/li><li>TRUE<\/li><li>TRUE<\/li><li>TRUE<\/li><li>TRUE<\/li><li>TRUE<\/li><li>TRUE<\/li><li>TRUE<\/li><li>TRUE<\/li><li>TRUE<\/li><li>TRUE<\/li><li>TRUE<\/li><li>TRUE<\/li><li>TRUE<\/li><li>TRUE<\/li><li>TRUE<\/li><li>TRUE<\/li><li>TRUE<\/li><li>TRUE<\/li><li>TRUE<\/li><li>TRUE<\/li><li>TRUE<\/li><li>TRUE<\/li><li>TRUE<\/li><li>TRUE<\/li><li>TRUE<\/li><li>TRUE<\/li><li>TRUE<\/li><li>TRUE<\/li><li>TRUE<\/li><li>TRUE<\/li><li>TRUE<\/li><li>TRUE<\/li><li>TRUE<\/li><li>TRUE<\/li><li>TRUE<\/li><li>TRUE<\/li><li>TRUE<\/li><li>TRUE<\/li><li>TRUE<\/li><li>TRUE<\/li><li>TRUE<\/li><li>TRUE<\/li><li>TRUE<\/li><li>TRUE<\/li><li>TRUE<\/li><li>TRUE<\/li><li>TRUE<\/li><li>TRUE<\/li><li>TRUE<\/li><li>TRUE<\/li><li>TRUE<\/li><li>TRUE<\/li><li>TRUE<\/li><li>TRUE<\/li><li>TRUE<\/li><li>TRUE<\/li><li>TRUE<\/li><li>TRUE<\/li><li>TRUE<\/li><li>TRUE<\/li><li>TRUE<\/li><li>TRUE<\/li><li>TRUE<\/li><li>TRUE<\/li><li>TRUE<\/li><li>TRUE<\/li><li>TRUE<\/li><li>TRUE<\/li><li>TRUE<\/li><li>TRUE<\/li><li>TRUE<\/li><li>TRUE<\/li><li>TRUE<\/li><li>TRUE<\/li><li>TRUE<\/li><li>TRUE<\/li><li>TRUE<\/li><li>TRUE<\/li><li>TRUE<\/li><li>TRUE<\/li><li>TRUE<\/li><li>TRUE<\/li><li>TRUE<\/li><li>TRUE<\/li><li>TRUE<\/li><li>TRUE<\/li><li>TRUE<\/li><li>TRUE<\/li><li>TRUE<\/li><li>TRUE<\/li><li>TRUE<\/li><li>TRUE<\/li><li>TRUE<\/li><li>TRUE<\/li><li>TRUE<\/li><li>TRUE<\/li><li>TRUE<\/li><li>TRUE<\/li><li>TRUE<\/li><li>TRUE<\/li><li>TRUE<\/li><li>TRUE<\/li><li>TRUE<\/li><li>TRUE<\/li><li>TRUE<\/li><li>TRUE<\/li><li>TRUE<\/li><li>TRUE<\/li><li>TRUE<\/li><li>TRUE<\/li><li>TRUE<\/li><li>TRUE<\/li><li>TRUE<\/li><li>TRUE<\/li><li>TRUE<\/li><li>TRUE<\/li><li>TRUE<\/li><li>TRUE<\/li><li>TRUE<\/li><li>TRUE<\/li><li>TRUE<\/li><li>TRUE<\/li><li>TRUE<\/li><li>TRUE<\/li><li>TRUE<\/li><li>TRUE<\/li><li>TRUE<\/li><li>TRUE<\/li><li>TRUE<\/li><li>TRUE<\/li><li>TRUE<\/li><li>TRUE<\/li><li>TRUE<\/li><li>TRUE<\/li><li>TRUE<\/li><li>TRUE<\/li><li>TRUE<\/li><li>TRUE<\/li><li>TRUE<\/li><li>TRUE<\/li><li>TRUE<\/li><li>TRUE<\/li><li>TRUE<\/li><li>TRUE<\/li><li>TRUE<\/li><li>TRUE<\/li><li>TRUE<\/li><li>TRUE<\/li><li>TRUE<\/li><li>TRUE<\/li><li>TRUE<\/li><li>TRUE<\/li><li>TRUE<\/li><li>TRUE<\/li><li>TRUE<\/li><li>TRUE<\/li><li>TRUE<\/li><li>TRUE<\/li><li>TRUE<\/li><li>TRUE<\/li><li>TRUE<\/li><li>TRUE<\/li><li>TRUE<\/li><li>TRUE<\/li><li>TRUE<\/li><li>TRUE<\/li><li>TRUE<\/li><li>TRUE<\/li><li>TRUE<\/li><li>TRUE<\/li><li>TRUE<\/li><li>TRUE<\/li><li>TRUE<\/li><li>TRUE<\/li><li>TRUE<\/li><li>TRUE<\/li><li>TRUE<\/li><li>TRUE<\/li><li>TRUE<\/li><li>TRUE<\/li><li>TRUE<\/li><li>TRUE<\/li><li>TRUE<\/li><li>TRUE<\/li><li>TRUE<\/li><li>TRUE<\/li><li>TRUE<\/li><li>TRUE<\/li><li>TRUE<\/li><li>TRUE<\/li><li>FALSE<\/li><li>FALSE<\/li><li>FALSE<\/li><li>FALSE<\/li><li>FALSE<\/li><li>FALSE<\/li><\/ol>\n"
      ]
     },
     "metadata":{
      
     },
     "output_type":"display_data"
    }
   ],
   "metadata":{
    "datalore":{
     "node_id":"yNIVd8ncsJxlXOgbiHUHUK",
     "type":"CODE",
     "hide_input_from_viewers":false,
     "hide_output_from_viewers":false,
     "report_properties":{
      "y":45
     }
    }
   }
  },
  {
   "cell_type":"markdown",
   "source":[
    "### Missing values < 5%     _drop missing values_"
   ],
   "attachments":{
    
   },
   "metadata":{
    "datalore":{
     "node_id":"tdXRQXmbEr1gEM9WZMtenk",
     "type":"MD",
     "hide_input_from_viewers":false,
     "hide_output_from_viewers":false,
     "report_properties":{
      "y":62
     }
    }
   }
  },
  {
   "cell_type":"code",
   "source":[
    "flights <- drop_na(flights)"
   ],
   "execution_count":6,
   "outputs":[
    
   ],
   "metadata":{
    "datalore":{
     "node_id":"8jmhRGRtQ9rFELiCAFy92K",
     "type":"CODE",
     "hide_input_from_viewers":false,
     "hide_output_from_viewers":false,
     "report_properties":{
      "y":65
     }
    }
   }
  },
  {
   "cell_type":"markdown",
   "source":[
    "# Business Questions❓"
   ],
   "attachments":{
    
   },
   "metadata":{
    "datalore":{
     "node_id":"BByBRXyNldIG8RKear5u5o",
     "type":"MD",
     "hide_input_from_viewers":false,
     "hide_output_from_viewers":false,
     "report_properties":{
      "y":68
     }
    }
   }
  },
  {
   "cell_type":"code",
   "source":[
    "## which carrier had most flights in May 2013 (Example)\n",
    "flights %>%\n",
    "    filter(month == 5, year == 2013) %>%\n",
    "    count(carrier) %>%\n",
    "    arrange(desc(n)) %>%\n",
    "    left_join(airlines, by = \"carrier\" ) %>%\n",
    "    select(n,carrier,name)  %>%\n",
    "    head(5)"
   ],
   "execution_count":7,
   "outputs":[
    {
     "data":{
      "text\/html":[
       "<table class=\"dataframe\">\n",
       "<caption>A tibble: 5 × 3<\/caption>\n",
       "<thead>\n",
       "\t<tr><th scope=col>n<\/th><th scope=col>carrier<\/th><th scope=col>name<\/th><\/tr>\n",
       "\t<tr><th scope=col>&lt;int&gt;<\/th><th scope=col>&lt;chr&gt;<\/th><th scope=col>&lt;chr&gt;<\/th><\/tr>\n",
       "<\/thead>\n",
       "<tbody>\n",
       "\t<tr><td>4890<\/td><td>UA<\/td><td>United Air Lines Inc.   <\/td><\/tr>\n",
       "\t<tr><td>4566<\/td><td>EV<\/td><td>ExpressJet Airlines Inc.<\/td><\/tr>\n",
       "\t<tr><td>4537<\/td><td>B6<\/td><td>JetBlue Airways         <\/td><\/tr>\n",
       "\t<tr><td>4066<\/td><td>DL<\/td><td>Delta Air Lines Inc.    <\/td><\/tr>\n",
       "\t<tr><td>2749<\/td><td>AA<\/td><td>American Airlines Inc.  <\/td><\/tr>\n",
       "<\/tbody>\n",
       "<\/table>\n"
      ]
     },
     "metadata":{
      
     },
     "output_type":"display_data"
    }
   ],
   "metadata":{
    "datalore":{
     "node_id":"fQmq7BCRwzBrajmpaZNUpJ",
     "type":"CODE",
     "hide_input_from_viewers":false,
     "hide_output_from_viewers":false,
     "report_properties":{
      "y":72
     }
    }
   }
  },
  {
   "cell_type":"markdown",
   "source":[
    "## 1. Average flights departure delayed time by carrier"
   ],
   "attachments":{
    
   },
   "metadata":{
    "datalore":{
     "node_id":"g8zaPaPiwfzWlQaY1GhESd",
     "type":"MD",
     "hide_input_from_viewers":false,
     "hide_output_from_viewers":false,
     "report_properties":{
      "y":83
     }
    }
   }
  },
  {
   "cell_type":"code",
   "source":[
    "flights %>%\n",
    "    group_by(carrier) %>%\n",
    "    summarise(avg_dep_delay = mean(dep_delay)) %>%\n",
    "    arrange(desc(avg_dep_delay)) "
   ],
   "execution_count":29,
   "outputs":[
    {
     "data":{
      "text\/html":[
       "<table class=\"dataframe\">\n",
       "<caption>A tibble: 16 × 2<\/caption>\n",
       "<thead>\n",
       "\t<tr><th scope=col>carrier<\/th><th scope=col>avg_dep_delay<\/th><\/tr>\n",
       "\t<tr><th scope=col>&lt;chr&gt;<\/th><th scope=col>&lt;dbl&gt;<\/th><\/tr>\n",
       "<\/thead>\n",
       "<tbody>\n",
       "\t<tr><td>F9<\/td><td>20.201175<\/td><\/tr>\n",
       "\t<tr><td>EV<\/td><td>19.838929<\/td><\/tr>\n",
       "\t<tr><td>YV<\/td><td>18.898897<\/td><\/tr>\n",
       "\t<tr><td>FL<\/td><td>18.605984<\/td><\/tr>\n",
       "\t<tr><td>WN<\/td><td>17.661657<\/td><\/tr>\n",
       "\t<tr><td>9E<\/td><td>16.439574<\/td><\/tr>\n",
       "\t<tr><td>B6<\/td><td>12.967548<\/td><\/tr>\n",
       "\t<tr><td>VX<\/td><td>12.756646<\/td><\/tr>\n",
       "\t<tr><td>OO<\/td><td>12.586207<\/td><\/tr>\n",
       "\t<tr><td>UA<\/td><td>12.016908<\/td><\/tr>\n",
       "\t<tr><td>MQ<\/td><td>10.445381<\/td><\/tr>\n",
       "\t<tr><td>DL<\/td><td> 9.223950<\/td><\/tr>\n",
       "\t<tr><td>AA<\/td><td> 8.569130<\/td><\/tr>\n",
       "\t<tr><td>AS<\/td><td> 5.830748<\/td><\/tr>\n",
       "\t<tr><td>HA<\/td><td> 4.900585<\/td><\/tr>\n",
       "\t<tr><td>US<\/td><td> 3.744693<\/td><\/tr>\n",
       "<\/tbody>\n",
       "<\/table>\n"
      ]
     },
     "metadata":{
      
     },
     "output_type":"display_data"
    }
   ],
   "metadata":{
    "datalore":{
     "node_id":"EEYqvOqV0vqHHiJZPI5dCU",
     "type":"CODE",
     "hide_input_from_viewers":false,
     "hide_output_from_viewers":false,
     "report_properties":{
      "y":86
     }
    }
   }
  },
  {
   "cell_type":"markdown",
   "source":[
    "## 2. Top 5 destinations between October to December"
   ],
   "attachments":{
    
   },
   "metadata":{
    "datalore":{
     "node_id":"qDUYHb358TrmCPiPMuTYN1",
     "type":"MD",
     "hide_input_from_viewers":false,
     "hide_output_from_viewers":false,
     "report_properties":{
      "y":101
     }
    }
   }
  },
  {
   "cell_type":"code",
   "source":[
    "flights %>%\n",
    "    filter(between(month,10,12)) %>%\n",
    "    count(dest) %>%\n",
    "    group_by(dest) %>%\n",
    "    arrange(desc(n)) %>%\n",
    "    head(5)"
   ],
   "execution_count":38,
   "outputs":[
    {
     "data":{
      "text\/html":[
       "<table class=\"dataframe\">\n",
       "<caption>A grouped_df: 5 × 2<\/caption>\n",
       "<thead>\n",
       "\t<tr><th scope=col>dest<\/th><th scope=col>n<\/th><\/tr>\n",
       "\t<tr><th scope=col>&lt;chr&gt;<\/th><th scope=col>&lt;int&gt;<\/th><\/tr>\n",
       "<\/thead>\n",
       "<tbody>\n",
       "\t<tr><td>ATL<\/td><td>4246<\/td><\/tr>\n",
       "\t<tr><td>LAX<\/td><td>4102<\/td><\/tr>\n",
       "\t<tr><td>ORD<\/td><td>4075<\/td><\/tr>\n",
       "\t<tr><td>BOS<\/td><td>3655<\/td><\/tr>\n",
       "\t<tr><td>CLT<\/td><td>3611<\/td><\/tr>\n",
       "<\/tbody>\n",
       "<\/table>\n"
      ]
     },
     "metadata":{
      
     },
     "output_type":"display_data"
    }
   ],
   "metadata":{
    "datalore":{
     "node_id":"cRhsraAiXkVmfHSQeglU5Y",
     "type":"CODE",
     "hide_input_from_viewers":false,
     "hide_output_from_viewers":false,
     "report_properties":{
      "y":104
     }
    }
   }
  },
  {
   "cell_type":"markdown",
   "source":[
    "## 3. Top 10 busiest days of JFK in 2013"
   ],
   "attachments":{
    
   },
   "metadata":{
    "datalore":{
     "node_id":"ityYiYXVFKcOVXVPqVte0I",
     "type":"MD",
     "hide_input_from_viewers":false,
     "hide_output_from_viewers":false,
     "report_properties":{
      "y":115
     }
    }
   }
  },
  {
   "cell_type":"code",
   "source":[
    "flights %>%\n",
    "    filter(origin == \"JFK\") %>%\n",
    "    group_by(month,day) %>%\n",
    "    count(day) %>%\n",
    "    arrange(desc(n)) %>%\n",
    "    select(month, day, flights_count = n) %>%\n",
    "    head(10)"
   ],
   "execution_count":52,
   "outputs":[
    {
     "data":{
      "text\/html":[
       "<table class=\"dataframe\">\n",
       "<caption>A grouped_df: 10 × 3<\/caption>\n",
       "<thead>\n",
       "\t<tr><th scope=col>month<\/th><th scope=col>day<\/th><th scope=col>flights_count<\/th><\/tr>\n",
       "\t<tr><th scope=col>&lt;dbl&gt;<\/th><th scope=col>&lt;dbl&gt;<\/th><th scope=col>&lt;int&gt;<\/th><\/tr>\n",
       "<\/thead>\n",
       "<tbody>\n",
       "\t<tr><td>7<\/td><td>17<\/td><td>328<\/td><\/tr>\n",
       "\t<tr><td>7<\/td><td>31<\/td><td>328<\/td><\/tr>\n",
       "\t<tr><td>8<\/td><td> 7<\/td><td>328<\/td><\/tr>\n",
       "\t<tr><td>8<\/td><td>14<\/td><td>328<\/td><\/tr>\n",
       "\t<tr><td>8<\/td><td>15<\/td><td>328<\/td><\/tr>\n",
       "\t<tr><td>8<\/td><td>16<\/td><td>328<\/td><\/tr>\n",
       "\t<tr><td>7<\/td><td>12<\/td><td>327<\/td><\/tr>\n",
       "\t<tr><td>7<\/td><td>26<\/td><td>327<\/td><\/tr>\n",
       "\t<tr><td>8<\/td><td> 5<\/td><td>326<\/td><\/tr>\n",
       "\t<tr><td>8<\/td><td>18<\/td><td>326<\/td><\/tr>\n",
       "<\/tbody>\n",
       "<\/table>\n"
      ]
     },
     "metadata":{
      
     },
     "output_type":"display_data"
    }
   ],
   "metadata":{
    "datalore":{
     "node_id":"AgNWFxiUbcjBFCcAD5GO3s",
     "type":"CODE",
     "hide_input_from_viewers":false,
     "hide_output_from_viewers":false,
     "report_properties":{
      "y":118
     }
    }
   }
  },
  {
   "cell_type":"markdown",
   "source":[
    "## 4. Shortest distance flights by carrier"
   ],
   "attachments":{
    
   },
   "metadata":{
    "datalore":{
     "node_id":"ZcbBjT11eDSmabLmgyg3Iv",
     "type":"MD",
     "hide_input_from_viewers":false,
     "hide_output_from_viewers":false,
     "report_properties":{
      "y":132
     }
    }
   }
  },
  {
   "cell_type":"code",
   "source":[
    "flights %>%\n",
    "    group_by(carrier) %>%\n",
    "    summarise(min_distance = min(distance)) %>%\n",
    "    arrange(min_distance)"
   ],
   "execution_count":79,
   "outputs":[
    {
     "data":{
      "text\/html":[
       "<table class=\"dataframe\">\n",
       "<caption>A tibble: 16 × 2<\/caption>\n",
       "<thead>\n",
       "\t<tr><th scope=col>carrier<\/th><th scope=col>min_distance<\/th><\/tr>\n",
       "\t<tr><th scope=col>&lt;chr&gt;<\/th><th scope=col>&lt;dbl&gt;<\/th><\/tr>\n",
       "<\/thead>\n",
       "<tbody>\n",
       "\t<tr><td>EV<\/td><td>  80<\/td><\/tr>\n",
       "\t<tr><td>9E<\/td><td>  94<\/td><\/tr>\n",
       "\t<tr><td>DL<\/td><td>  94<\/td><\/tr>\n",
       "\t<tr><td>US<\/td><td>  94<\/td><\/tr>\n",
       "\t<tr><td>YV<\/td><td>  96<\/td><\/tr>\n",
       "\t<tr><td>UA<\/td><td> 116<\/td><\/tr>\n",
       "\t<tr><td>WN<\/td><td> 169<\/td><\/tr>\n",
       "\t<tr><td>B6<\/td><td> 173<\/td><\/tr>\n",
       "\t<tr><td>MQ<\/td><td> 184<\/td><\/tr>\n",
       "\t<tr><td>AA<\/td><td> 187<\/td><\/tr>\n",
       "\t<tr><td>OO<\/td><td> 229<\/td><\/tr>\n",
       "\t<tr><td>FL<\/td><td> 397<\/td><\/tr>\n",
       "\t<tr><td>F9<\/td><td>1620<\/td><\/tr>\n",
       "\t<tr><td>VX<\/td><td>2248<\/td><\/tr>\n",
       "\t<tr><td>AS<\/td><td>2402<\/td><\/tr>\n",
       "\t<tr><td>HA<\/td><td>4983<\/td><\/tr>\n",
       "<\/tbody>\n",
       "<\/table>\n"
      ]
     },
     "metadata":{
      
     },
     "output_type":"display_data"
    }
   ],
   "metadata":{
    "datalore":{
     "node_id":"e9DamDvhxZBJqbpuJdqaBF",
     "type":"CODE",
     "hide_input_from_viewers":false,
     "hide_output_from_viewers":false,
     "report_properties":{
      "y":135
     }
    }
   }
  },
  {
   "cell_type":"markdown",
   "source":[
    "## 5. Top 5 average air times in July by carrier that origin from EWR"
   ],
   "attachments":{
    
   },
   "metadata":{
    "datalore":{
     "node_id":"EVW3zu4ssljXokdqEeSk9b",
     "type":"MD",
     "hide_input_from_viewers":false,
     "hide_output_from_viewers":false,
     "report_properties":{
      "y":150
     }
    }
   }
  },
  {
   "cell_type":"code",
   "source":[
    "flights %>%\n",
    "    filter(month == 7) %>%\n",
    "    group_by(carrier) %>%\n",
    "    summarise(avg_air_time = mean(air_time)) %>%\n",
    "    arrange(desc(avg_air_time)) %>%\n",
    "    head(5)"
   ],
   "execution_count":86,
   "outputs":[
    {
     "data":{
      "text\/html":[
       "<table class=\"dataframe\">\n",
       "<caption>A tibble: 5 × 2<\/caption>\n",
       "<thead>\n",
       "\t<tr><th scope=col>carrier<\/th><th scope=col>avg_air_time<\/th><\/tr>\n",
       "\t<tr><th scope=col>&lt;chr&gt;<\/th><th scope=col>&lt;dbl&gt;<\/th><\/tr>\n",
       "<\/thead>\n",
       "<tbody>\n",
       "\t<tr><td>HA<\/td><td>607.5806<\/td><\/tr>\n",
       "\t<tr><td>AS<\/td><td>321.7258<\/td><\/tr>\n",
       "\t<tr><td>VX<\/td><td>321.2961<\/td><\/tr>\n",
       "\t<tr><td>F9<\/td><td>219.0690<\/td><\/tr>\n",
       "\t<tr><td>UA<\/td><td>207.8638<\/td><\/tr>\n",
       "<\/tbody>\n",
       "<\/table>\n"
      ]
     },
     "metadata":{
      
     },
     "output_type":"display_data"
    }
   ],
   "metadata":{
    "datalore":{
     "node_id":"SqdODlWFFzXwwFP0t6q96i",
     "type":"CODE",
     "hide_input_from_viewers":false,
     "hide_output_from_viewers":false,
     "report_properties":{
      "y":153
     }
    }
   }
  }
 ],
 "metadata":{
  "kernelspec":{
   "display_name":"R",
   "language":"r",
   "name":"ir"
  },
  "datalore":{
   "version":1,
   "computation_mode":"JUPYTER",
   "package_manager":"conda",
   "base_environment":"minimal",
   "packages":[
    
   ]
  }
 },
 "nbformat":4,
 "nbformat_minor":4
}