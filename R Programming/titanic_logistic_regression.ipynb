{
 "cells":[
  {
   "cell_type":"markdown",
   "source":[
    "# Titanic_logistic_regression\n",
    "\n",
    "**Date:** 26 January 2023\n",
    "\n",
    "**Author:** Supawit Srisupap"
   ],
   "attachments":{
    
   },
   "metadata":{
    "datalore":{
     "node_id":"9gmpz1KyXklEZzYJYm8B7U",
     "type":"MD",
     "hide_input_from_viewers":false,
     "hide_output_from_viewers":false
    }
   }
  },
  {
   "cell_type":"code",
   "source":[
    "install.packages(\"titanic\")\n",
    "library(titanic)\n",
    "library(tidyverse)"
   ],
   "execution_count":102,
   "outputs":[
    {
     "name":"stderr",
     "text":[
      "Updating HTML index of packages in '.Library'\n",
      "\n",
      "Making 'packages.html' ...\n",
      " done\n",
      "\n"
     ],
     "output_type":"stream"
    }
   ],
   "metadata":{
    "datalore":{
     "node_id":"JBulf4wR3XR20dL0cOjkTi",
     "type":"CODE",
     "hide_input_from_viewers":false,
     "hide_output_from_viewers":false
    }
   }
  },
  {
   "cell_type":"code",
   "source":[
    "glimpse(titanic_train)"
   ],
   "execution_count":103,
   "outputs":[
    {
     "name":"stdout",
     "text":[
      "Rows: 714\n",
      "Columns: 12\n",
      "$ PassengerId \u001b[3m\u001b[90m<int>\u001b[39m\u001b[23m 1, 2, 3, 4, 5, 7, 8, 9, 10, 11, 12, 13, 14, 15, 16, 17, 19…\n",
      "$ Survived    \u001b[3m\u001b[90m<int>\u001b[39m\u001b[23m 0, 1, 1, 1, 0, 0, 0, 1, 1, 1, 1, 0, 0, 0, 1, 0, 0, 0, 1, 1…\n",
      "$ Pclass      \u001b[3m\u001b[90m<int>\u001b[39m\u001b[23m 3, 1, 3, 1, 3, 1, 3, 3, 2, 3, 1, 3, 3, 3, 2, 3, 3, 2, 2, 3…\n",
      "$ Name        \u001b[3m\u001b[90m<chr>\u001b[39m\u001b[23m \"Braund, Mr. Owen Harris\", \"Cumings, Mrs. John Bradley (Fl…\n",
      "$ Sex         \u001b[3m\u001b[90m<chr>\u001b[39m\u001b[23m \"male\", \"female\", \"female\", \"female\", \"male\", \"male\", \"mal…\n",
      "$ Age         \u001b[3m\u001b[90m<dbl>\u001b[39m\u001b[23m 22, 38, 26, 35, 35, 54, 2, 27, 14, 4, 58, 20, 39, 14, 55, …\n",
      "$ SibSp       \u001b[3m\u001b[90m<int>\u001b[39m\u001b[23m 1, 1, 0, 1, 0, 0, 3, 0, 1, 1, 0, 0, 1, 0, 0, 4, 1, 0, 0, 0…\n",
      "$ Parch       \u001b[3m\u001b[90m<int>\u001b[39m\u001b[23m 0, 0, 0, 0, 0, 0, 1, 2, 0, 1, 0, 0, 5, 0, 0, 1, 0, 0, 0, 0…\n",
      "$ Ticket      \u001b[3m\u001b[90m<chr>\u001b[39m\u001b[23m \"A\/5 21171\", \"PC 17599\", \"STON\/O2. 3101282\", \"113803\", \"37…\n",
      "$ Fare        \u001b[3m\u001b[90m<dbl>\u001b[39m\u001b[23m 7.2500, 71.2833, 7.9250, 53.1000, 8.0500, 51.8625, 21.0750…\n",
      "$ Cabin       \u001b[3m\u001b[90m<chr>\u001b[39m\u001b[23m \"\", \"C85\", \"\", \"C123\", \"\", \"E46\", \"\", \"\", \"\", \"G6\", \"C103\"…\n",
      "$ Embarked    \u001b[3m\u001b[90m<chr>\u001b[39m\u001b[23m \"S\", \"C\", \"S\", \"S\", \"S\", \"S\", \"S\", \"S\", \"C\", \"S\", \"S\", \"S\"…\n"
     ],
     "output_type":"stream"
    }
   ],
   "metadata":{
    "datalore":{
     "node_id":"0KQJR0yTnxPiP5dXnZ7iPB",
     "type":"CODE",
     "hide_input_from_viewers":false,
     "hide_output_from_viewers":false
    }
   }
  },
  {
   "cell_type":"code",
   "source":[
    "# drop na\n",
    "titanic_train <- na.omit(titanic_train)"
   ],
   "execution_count":104,
   "outputs":[
    
   ],
   "metadata":{
    "datalore":{
     "node_id":"2fD35R5g9t9V3z2LmbWUVj",
     "type":"CODE",
     "hide_input_from_viewers":false,
     "hide_output_from_viewers":false
    }
   }
  },
  {
   "cell_type":"code",
   "source":[
    "# split data\n",
    "set.seed(53)\n",
    "n <- nrow(titanic_train)\n",
    "id <- sample(1:n, size= n*0.7) # 70% train , 30% test\n",
    "train_data <- titanic_train[id, ]\n",
    "test_data <- titanic_train[-id, ]"
   ],
   "execution_count":105,
   "outputs":[
    
   ],
   "metadata":{
    "datalore":{
     "node_id":"klkUVHvAoXvYSiV9lDkF4q",
     "type":"CODE",
     "hide_input_from_viewers":false,
     "hide_output_from_viewers":false
    }
   }
  },
  {
   "cell_type":"markdown",
   "source":[
    "## Train model"
   ],
   "attachments":{
    
   },
   "metadata":{
    "datalore":{
     "node_id":"HWRqzTWo6zh7v4wrYOUfhm",
     "type":"MD",
     "hide_input_from_viewers":false,
     "hide_output_from_viewers":false
    }
   }
  },
  {
   "cell_type":"code",
   "source":[
    "# train data\n",
    "log_model <- glm(Survived ~ Pclass + Sex + SibSp + Age, data = train_data, family = \"binomial\")\n",
    "summary(log_model)"
   ],
   "execution_count":106,
   "outputs":[
    {
     "data":{
      "text\/plain":[
       "\n",
       "Call:\n",
       "glm(formula = Survived ~ Pclass + Sex + SibSp + Age, family = \"binomial\", \n",
       "    data = train_data)\n",
       "\n",
       "Deviance Residuals: \n",
       "    Min       1Q   Median       3Q      Max  \n",
       "-2.7168  -0.6704  -0.3885   0.6118   2.4745  \n",
       "\n",
       "Coefficients:\n",
       "            Estimate Std. Error z value Pr(>|z|)    \n",
       "(Intercept)  5.43434    0.65102   8.347  < 2e-16 ***\n",
       "Pclass      -1.32484    0.16992  -7.797 6.34e-15 ***\n",
       "Sexmale     -2.52040    0.25675  -9.817  < 2e-16 ***\n",
       "SibSp       -0.35735    0.13569  -2.634  0.00845 ** \n",
       "Age         -0.04340    0.01007  -4.310 1.63e-05 ***\n",
       "---\n",
       "Signif. codes:  0 ‘***’ 0.001 ‘**’ 0.01 ‘*’ 0.05 ‘.’ 0.1 ‘ ’ 1\n",
       "\n",
       "(Dispersion parameter for binomial family taken to be 1)\n",
       "\n",
       "    Null deviance: 665.95  on 498  degrees of freedom\n",
       "Residual deviance: 447.28  on 494  degrees of freedom\n",
       "AIC: 457.28\n",
       "\n",
       "Number of Fisher Scoring iterations: 5\n"
      ]
     },
     "metadata":{
      
     },
     "output_type":"display_data"
    }
   ],
   "metadata":{
    "datalore":{
     "node_id":"rOjkYbAlN0Yt942fv4zBGb",
     "type":"CODE",
     "hide_input_from_viewers":false,
     "hide_output_from_viewers":false
    }
   }
  },
  {
   "cell_type":"code",
   "source":[
    "train_data$prob_sur <- predict(log_model, type=\"response\")\n",
    "train_data$pred_sur <- ifelse(train_data$prob_sur >= 0.5,1,0)\n",
    "#train_data %>% \n",
    "#  select(PassengerId, Survived, prob_sur, pred_sur)"
   ],
   "execution_count":107,
   "outputs":[
    
   ],
   "metadata":{
    "datalore":{
     "node_id":"hu7bRrPGtaKzWJ9uxaqIoJ",
     "type":"CODE",
     "hide_input_from_viewers":false,
     "hide_output_from_viewers":false
    }
   }
  },
  {
   "cell_type":"markdown",
   "source":[
    "## Test model"
   ],
   "attachments":{
    
   },
   "metadata":{
    "datalore":{
     "node_id":"7cUMB3kU1SZ91EJ69aoUIa",
     "type":"MD",
     "hide_input_from_viewers":false,
     "hide_output_from_viewers":false
    }
   }
  },
  {
   "cell_type":"code",
   "source":[
    "test_data$prob_sur <- predict(log_model,newdata = test_data, type=\"response\")\n",
    "test_data$pred_sur <- ifelse(test_data$prob_sur >= 0.5,1,0)\n",
    "#test_data %>% \n",
    "#  select(PassengerId, Survived, prob_sur, pred_sur)"
   ],
   "execution_count":108,
   "outputs":[
    
   ],
   "metadata":{
    "datalore":{
     "node_id":"QEfngzLYTMZpmn25ur1eom",
     "type":"CODE",
     "hide_input_from_viewers":false,
     "hide_output_from_viewers":false
    }
   }
  },
  {
   "cell_type":"markdown",
   "source":[
    "## Accuracy"
   ],
   "attachments":{
    
   },
   "metadata":{
    "datalore":{
     "node_id":"BAw4sxQLTEGKAHRoQpJh2B",
     "type":"MD",
     "hide_input_from_viewers":false,
     "hide_output_from_viewers":false
    }
   }
  },
  {
   "cell_type":"code",
   "source":[
    "conmat <- table(train_data$Survived,train_data$pred_sur, dnn = c(\"Actual\",\"Predicted\"))\n",
    "print(conmat)"
   ],
   "execution_count":109,
   "outputs":[
    {
     "name":"stdout",
     "text":[
      "      Predicted\n",
      "Actual   0   1\n",
      "     0 270  36\n",
      "     1  56 137\n"
     ],
     "output_type":"stream"
    }
   ],
   "metadata":{
    "datalore":{
     "node_id":"NKX7Y8oBNrFGgtPp4H5wmT",
     "type":"CODE",
     "hide_input_from_viewers":false,
     "hide_output_from_viewers":false
    }
   }
  },
  {
   "cell_type":"code",
   "source":[
    "acc_test <- (conmat[1,1]+conmat[2,2])\/sum(conmat)\n",
    "prec_test <- conmat[2,2]\/(conmat[2,2]+conmat[2,1])\n",
    "rec_test <- conmat[2,2]\/(conmat[2,2]+conmat[1,2])\n",
    "f1_test <- 2*((prec*rec)\/(prec+rec))"
   ],
   "execution_count":110,
   "outputs":[
    
   ],
   "metadata":{
    "datalore":{
     "node_id":"th1ChEGG87MZJpaj0Fid9b",
     "type":"CODE",
     "hide_input_from_viewers":false,
     "hide_output_from_viewers":false
    }
   }
  },
  {
   "cell_type":"code",
   "source":[
    "cat(\"Test Model\", \"\\nAccuracy:\", acc_test, \"\\nPrecision:\", prec_test, \"\\nRecall:\", rec_test, \"\\nF1 Scorce:\", f1_test)"
   ],
   "execution_count":111,
   "outputs":[
    {
     "name":"stdout",
     "text":[
      "Test Model \n",
      "Accuracy: 0.8156313 \n",
      "Precision: 0.7098446 \n",
      "Recall: 0.7919075 \n",
      "F1 Scorce: 0.7486339"
     ],
     "output_type":"stream"
    }
   ],
   "metadata":{
    "datalore":{
     "node_id":"1DFnLjrWBViCVogeeECeGK",
     "type":"CODE",
     "hide_input_from_viewers":false,
     "hide_output_from_viewers":false
    }
   }
  }
 ],
 "metadata":{
  "kernelspec":{
   "display_name":"R",
   "language":"r",
   "name":"ir"
  },
  "datalore":{
   "version":1,
   "computation_mode":"JUPYTER",
   "package_manager":"conda",
   "base_environment":"minimal",
   "packages":[
    
   ]
  }
 },
 "nbformat":4,
 "nbformat_minor":4
}