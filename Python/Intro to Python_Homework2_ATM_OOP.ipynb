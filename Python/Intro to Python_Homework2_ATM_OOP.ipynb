{
 "cells":[
  {
   "cell_type":"markdown",
   "source":[
    "# ATM"
   ],
   "attachments":{
    
   },
   "metadata":{
    "datalore":{
     "node_id":"ATM",
     "type":"MD",
     "hide_input_from_viewers":false,
     "hide_output_from_viewers":false,
     "sheet_delimiter":true
    }
   }
  },
  {
   "cell_type":"markdown",
   "source":[
    "## Homework 2\n",
    "### ATM Class => at least 5 methods\n",
    "\n",
    "Date: 13 January 2023\n",
    "\n",
    "Author: Supawit Srisupap"
   ],
   "attachments":{
    
   },
   "metadata":{
    "datalore":{
     "node_id":"T01KMLRq4L1XJVvNPxi8ML",
     "type":"MD",
     "hide_input_from_viewers":false,
     "hide_output_from_viewers":false
    }
   }
  },
  {
   "cell_type":"code",
   "source":[
    "class ATM:\n",
    "    def __init__(self, name, balance, password):\n",
    "        self.name = name\n",
    "        self.balance = balance\n",
    "        self.password = int(password)\n",
    "        self.pass_check = 0\n",
    "    \n",
    "    # 1\n",
    "    def check_balance(self):\n",
    "        message = f'Account: {self.name}, Balance: {self.balance}'\n",
    "        print(message)\n",
    "\n",
    "    # 2\n",
    "    def deposit(self, money):\n",
    "        while self.pass_check == 0:\n",
    "            self.login()\n",
    "        self.balance += money\n",
    "        print(\"Deposit successfully.\")\n",
    "        print(f\"Your balance is {self.balance}\")\n",
    "\n",
    "    # 3\n",
    "    def withdraw(self, money):\n",
    "        while self.pass_check == 0:\n",
    "            self.login()\n",
    "        self.balance -= money\n",
    "        print(\"Withdraw successfully.\")\n",
    "        print(f\"Your balance is {self.balance}\")\n",
    "\n",
    "    # 4\n",
    "    def change_name(self, new_name):\n",
    "        while self.pass_check == 0:\n",
    "            self.login()\n",
    "        print(f'Your account name: >>>{self.name}<<< is changed to >>>{new_name}<<<')\n",
    "        self.name = new_name\n",
    "    \n",
    "    # 5\n",
    "    def change_password(self):\n",
    "        new_pass_check = int(input('Please input your old password: '))\n",
    "        if self.password == new_pass_check:\n",
    "            new_pass = int(input('Please input your new password: '))\n",
    "            print('Your password is changed')\n",
    "            self.password = new_pass\n",
    "        else:\n",
    "            print('Unsuccessful')\n",
    "    \n",
    "    # 6\n",
    "    def logout(self):\n",
    "        if self.pass_check == 0:\n",
    "            print('You are already Logout')\n",
    "        else:\n",
    "            self.pass_check = 0\n",
    "            print('Logout successful')\n",
    "\n",
    "    # 7\n",
    "    def login(self):\n",
    "        while self.pass_check == 0:\n",
    "            check = int(input('Please input your password: '))\n",
    "            if check == self.password:\n",
    "                self.pass_check = 1\n",
    "                print('Login successful')\n",
    "                break\n",
    "            else:\n",
    "                print('Try agian')"
   ],
   "execution_count":1,
   "outputs":[
    
   ],
   "metadata":{
    "datalore":{
     "node_id":"bVS08lgZNcDaTkFlAehgbT",
     "type":"CODE",
     "hide_input_from_viewers":false,
     "hide_output_from_viewers":false
    }
   }
  },
  {
   "cell_type":"code",
   "source":[
    "# setup\n",
    "scb = ATM('farm', 500, 123456)"
   ],
   "execution_count":2,
   "outputs":[
    
   ],
   "metadata":{
    "datalore":{
     "node_id":"vdGgeiSm6lP6Is2X7IG5RG",
     "type":"CODE",
     "hide_input_from_viewers":false,
     "hide_output_from_viewers":false
    }
   }
  },
  {
   "cell_type":"code",
   "source":[
    "scb.login()"
   ],
   "execution_count":3,
   "outputs":[
    {
     "name":"stdout",
     "text":[
      "Please input your password:  123456\n",
      "Login successful\n"
     ],
     "output_type":"stream"
    }
   ],
   "metadata":{
    "datalore":{
     "node_id":"V1WUqByLJtCJlYQdEGuK27",
     "type":"CODE",
     "hide_input_from_viewers":false,
     "hide_output_from_viewers":false
    }
   }
  },
  {
   "cell_type":"code",
   "source":[
    "scb.check_balance()\n",
    "scb.deposit(50)\n",
    "scb.withdraw(20)\n",
    "scb.change_name(\"eiei\")\n",
    "scb.change_password()"
   ],
   "execution_count":4,
   "outputs":[
    {
     "name":"stdout",
     "text":[
      "Account: farm, Balance: 500\n",
      "Deposit successfully.\n",
      "Your balance is 550\n",
      "Withdraw successfully.\n",
      "Your balance is 530\n",
      "Your account name: >>>farm<<< is changed to >>>eiei<<<\n",
      "Please input your old password:  123456\n",
      "Please input your new password:  555\n",
      "Your password is changed\n"
     ],
     "output_type":"stream"
    }
   ],
   "metadata":{
    "datalore":{
     "node_id":"Q62W7XLCRvX1QnBXFFE4R5",
     "type":"CODE",
     "hide_input_from_viewers":false,
     "hide_output_from_viewers":false
    }
   }
  },
  {
   "cell_type":"code",
   "source":[
    "scb.logout()"
   ],
   "execution_count":5,
   "outputs":[
    {
     "name":"stdout",
     "text":[
      "Logout successful\n"
     ],
     "output_type":"stream"
    }
   ],
   "metadata":{
    "datalore":{
     "node_id":"ngp0PZd7Yyfn0iSjxNHFg6",
     "type":"CODE",
     "hide_input_from_viewers":false,
     "hide_output_from_viewers":false
    }
   }
  }
 ],
 "metadata":{
  "kernelspec":{
   "display_name":"Python",
   "language":"python",
   "name":"python"
  },
  "datalore":{
   "version":1,
   "computation_mode":"JUPYTER",
   "package_manager":"pip",
   "base_environment":"default",
   "packages":[
    
   ]
  }
 },
 "nbformat":4,
 "nbformat_minor":4
}