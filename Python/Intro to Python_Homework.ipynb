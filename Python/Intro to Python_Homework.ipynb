{
 "cells":[
  {
   "cell_type":"markdown",
   "source":[
    "# Pao Ying Chub"
   ],
   "attachments":{
    
   },
   "metadata":{
    "datalore":{
     "node_id":"Pao Ying Chub",
     "type":"MD",
     "hide_input_from_viewers":false,
     "hide_output_from_viewers":false,
     "sheet_delimiter":true
    }
   }
  },
  {
   "cell_type":"markdown",
   "source":[
    "## Homework 1\n",
    "\n",
    "### Pao Ying Chub by Python\n",
    "\n",
    "Date: 16 January 2023\n",
    "\n",
    "Author: Supawit Srisupap"
   ],
   "attachments":{
    
   },
   "metadata":{
    "datalore":{
     "node_id":"rPnI6RZ1pdOk5E7GYhJLjQ",
     "type":"MD",
     "hide_input_from_viewers":false,
     "hide_output_from_viewers":false
    }
   }
  },
  {
   "cell_type":"code",
   "source":[
    "# Greeting\n",
    "print(\"Welcome adventurer!!!\")\n",
    "username = input('Enter your name: ')\n",
    "print(f'Hi! {username},. I assume that you know the rules.')\n",
    "print(\"Tell me when you are ready.\")\n",
    "ready = input('Press any key to start the game: ')\n",
    "\n",
    "#setup\n",
    "import random\n",
    "rounds = int(1)\n",
    "p_weapon = []\n",
    "b_weapon = []\n",
    "result_round = []\n",
    "player_weapon = 0\n",
    "weapon_list = [1,2,3]\n",
    "weapon_name = ['Rock','Scissors','Paper']\n",
    "play_more = '1'\n",
    "#game\n",
    "while play_more == '1':\n",
    "    print(f'Round {rounds}')\n",
    "    print(\"Choose your weapon...\")\n",
    "    print(\"[1]Rock  [2]Scissors  [3]Paper\")\n",
    "    while str(player_weapon) not in str(weapon_list):\n",
    "        print('Please select 1-3')\n",
    "        player_weapon = input('My weapon is: ')\n",
    "\n",
    "    bot_weapon = random.choice(weapon_list)\n",
    "    print(f'Your weapon is: {weapon_name[int(player_weapon) - 1]}')\n",
    "    print(f'Bot weapon is: {weapon_name[int(bot_weapon) - 1]}')\n",
    "    if  int(player_weapon) - int(bot_weapon) == -1:\n",
    "        print(\"Look like you are...\")\n",
    "        print(\"---------------------------\")\n",
    "        print(\"Win\")\n",
    "        print(\"---------------------------\")\n",
    "        result_round.append('Win')\n",
    "            \n",
    "    if  int(player_weapon) - int(bot_weapon) == 2:\n",
    "        print(\"Look like you are...\")\n",
    "        print(\"---------------------------\")\n",
    "        print(\"Win\")\n",
    "        print(\"---------------------------\")\n",
    "        result_round.append('Win')\n",
    "            \n",
    "    if  int(player_weapon) - int(bot_weapon) == 0:\n",
    "        print(\"Look like you are...\")\n",
    "        print(\"---------------------------\")\n",
    "        print(\"Tie\")\n",
    "        print(\"---------------------------\")\n",
    "        result_round.append('Tie')\n",
    "        \n",
    "    if  int(bot_weapon) - int(player_weapon) == -1:\n",
    "        print(\"Look like you are...\")\n",
    "        print(\"---------------------------\")\n",
    "        print(\"Lose\")\n",
    "        print(\"---------------------------\")\n",
    "        result_round.append('Lose')\n",
    "\n",
    "    if  int(bot_weapon) - int(player_weapon) == 2:\n",
    "        print(\"Look like you are...\")\n",
    "        print(\"---------------------------\")\n",
    "        print(\"Lose\")\n",
    "        print(\"---------------------------\")\n",
    "        result_round.append('Lose')\n",
    "\n",
    "    p_weapon.append(weapon_name[int(player_weapon) - 1])\n",
    "    b_weapon.append(weapon_name[int(bot_weapon) - 1])\n",
    "    play_more = str(input('Play more? [1]Yes [Any]No: '))\n",
    "    rounds += 1\n",
    "    player_weapon = 0\n",
    "\n",
    "    if  play_more != '1':\n",
    "        print('The results is...')\n",
    "        print(result_round)\n",
    "        win_rate = result_round.count('Win')\/len(result_round)\n",
    "        tie_rate = result_round.count('Tie')\/len(result_round)\n",
    "        lose_rate = result_round.count('Lose')\/len(result_round)\n",
    "        print(f'Your win rate is: {win_rate}')\n",
    "        print(f'Your tie rate is: {tie_rate}')\n",
    "        print(f'Your lose rate is: {lose_rate}')"
   ],
   "execution_count":61,
   "outputs":[
    {
     "name":"stdout",
     "text":[
      "Welcome adventurer!!!\n",
      "Enter your name:  2\n",
      "Hi! 2,. I assume that you know the rules.\n",
      "Tell me when you are ready.\n",
      "Press any key to start the game:  2\n",
      "Round 1\n",
      "Choose your weapon...\n",
      "[1]Rock  [2]Scissors  [3]Paper\n",
      "Please select 1-3\n",
      "My weapon is:  2\n",
      "Your weapon is: Scissors\n",
      "Bot weapon is: Scissors\n",
      "Look like you are...\n",
      "---------------------------\n",
      "Tie\n",
      "---------------------------\n",
      "Play more? [1]Yes [Any]No:  2\n",
      "The results is...\n",
      "['Tie']\n",
      "Your win rate is: 0.0\n",
      "Your tie rate is: 1.0\n",
      "Your lose rate is: 0.0\n"
     ],
     "output_type":"stream"
    }
   ],
   "metadata":{
    "datalore":{
     "node_id":"ICWQBqMHxC3BJGyCCDwn4u",
     "type":"CODE",
     "hide_input_from_viewers":false,
     "hide_output_from_viewers":false
    }
   }
  },
  {
   "cell_type":"code",
   "source":[
    "p = [1,2,3]\n",
    "import random\n",
    "random.choice(p)"
   ],
   "execution_count":31,
   "outputs":[
    {
     "data":{
      "text\/plain":[
       "3"
      ]
     },
     "metadata":{
      
     },
     "output_type":"display_data"
    }
   ],
   "metadata":{
    "datalore":{
     "node_id":"WyrucFomKzXtSwMgGBmiVX",
     "type":"CODE",
     "hide_input_from_viewers":false,
     "hide_output_from_viewers":false
    }
   }
  },
  {
   "cell_type":"markdown",
   "source":[
    "# ATM"
   ],
   "attachments":{
    
   },
   "metadata":{
    "datalore":{
     "node_id":"ATM",
     "type":"MD",
     "hide_input_from_viewers":false,
     "hide_output_from_viewers":false,
     "sheet_delimiter":true
    }
   }
  },
  {
   "cell_type":"markdown",
   "source":[
    "## Homework 2\n",
    "### ATM Class => at least 5 methods\n",
    "\n",
    "Date: 13 January 2023\n",
    "\n",
    "Author: Supawit Srisupap"
   ],
   "attachments":{
    
   },
   "metadata":{
    "datalore":{
     "node_id":"T01KMLRq4L1XJVvNPxi8ML",
     "type":"MD",
     "hide_input_from_viewers":false,
     "hide_output_from_viewers":false
    }
   }
  },
  {
   "cell_type":"code",
   "source":[
    "class ATM:\n",
    "    def __init__(self, name, balance, password):\n",
    "        self.name = name\n",
    "        self.balance = balance\n",
    "        self.password = int(password)\n",
    "        self.pass_check = 0\n",
    "    \n",
    "    # 1\n",
    "    def check_balance(self):\n",
    "        message = f'Account: {self.name}, Balance: {self.balance}'\n",
    "        print(message)\n",
    "\n",
    "    # 2\n",
    "    def deposit(self, money):\n",
    "        while self.pass_check == 0:\n",
    "            self.login()\n",
    "        self.balance += money\n",
    "        print(\"Deposit successfully.\")\n",
    "        print(f\"Your balance is {self.balance}\")\n",
    "\n",
    "    # 3\n",
    "    def withdraw(self, money):\n",
    "        while self.pass_check == 0:\n",
    "            self.login()\n",
    "        self.balance -= money\n",
    "        print(\"Withdraw successfully.\")\n",
    "        print(f\"Your balance is {self.balance}\")\n",
    "\n",
    "    # 4\n",
    "    def change_name(self, new_name):\n",
    "        while self.pass_check == 0:\n",
    "            self.login()\n",
    "        print(f'Your account name: >>>{self.name}<<< is changed to >>>{new_name}<<<')\n",
    "        self.name = new_name\n",
    "    \n",
    "    # 5\n",
    "    def change_password(self):\n",
    "        new_pass_check = int(input('Please input your old password: '))\n",
    "        if self.password == new_pass_check:\n",
    "            new_pass = int(input('Please input your new password: '))\n",
    "            print('Your password is changed')\n",
    "            self.password = new_pass\n",
    "        else:\n",
    "            print('Unsuccessful')\n",
    "    \n",
    "    # 6\n",
    "    def logout(self):\n",
    "        if self.pass_check == 0:\n",
    "            print('You are already Logout')\n",
    "        else:\n",
    "            self.pass_check = 0\n",
    "            print('Logout successful')\n",
    "\n",
    "    # 7\n",
    "    def login(self):\n",
    "        while self.pass_check == 0:\n",
    "            check = int(input('Please input your password: '))\n",
    "            if check == self.password:\n",
    "                self.pass_check = 1\n",
    "                print('Login successful')\n",
    "                break\n",
    "            else:\n",
    "                print('Try agian')"
   ],
   "execution_count":44,
   "outputs":[
    
   ],
   "metadata":{
    "datalore":{
     "node_id":"bVS08lgZNcDaTkFlAehgbT",
     "type":"CODE",
     "hide_input_from_viewers":false,
     "hide_output_from_viewers":false
    }
   }
  },
  {
   "cell_type":"code",
   "source":[
    "# setup\n",
    "scb = ATM('farm', 500, 123456)"
   ],
   "execution_count":45,
   "outputs":[
    
   ],
   "metadata":{
    "datalore":{
     "node_id":"vdGgeiSm6lP6Is2X7IG5RG",
     "type":"CODE",
     "hide_input_from_viewers":false,
     "hide_output_from_viewers":false
    }
   }
  },
  {
   "cell_type":"code",
   "source":[
    "scb.login()"
   ],
   "execution_count":49,
   "outputs":[
    {
     "name":"stdout",
     "text":[
      "Please input your password:  1\n",
      "Login successful\n"
     ],
     "output_type":"stream"
    }
   ],
   "metadata":{
    "datalore":{
     "node_id":"V1WUqByLJtCJlYQdEGuK27",
     "type":"CODE",
     "hide_input_from_viewers":false,
     "hide_output_from_viewers":false
    }
   }
  },
  {
   "cell_type":"code",
   "source":[
    "scb.check_balance()\n",
    "scb.deposit(50)\n",
    "scb.withdraw(20)\n",
    "scb.change_name(\"eiei\")\n",
    "scb.change_password()"
   ],
   "execution_count":50,
   "outputs":[
    {
     "name":"stdout",
     "text":[
      "Account: eiei, Balance: 530\n",
      "Deposit successfully.\n",
      "Your balance is 580\n",
      "Withdraw successfully.\n",
      "Your balance is 560\n",
      "Your account name: >>>eiei<<< is changed to >>>eiei<<<\n",
      "Please input your old password:  123456\n",
      "Unsuccessful\n"
     ],
     "output_type":"stream"
    }
   ],
   "metadata":{
    "datalore":{
     "node_id":"Q62W7XLCRvX1QnBXFFE4R5",
     "type":"CODE",
     "hide_input_from_viewers":false,
     "hide_output_from_viewers":false
    }
   }
  },
  {
   "cell_type":"code",
   "source":[
    "scb.logout()"
   ],
   "execution_count":53,
   "outputs":[
    {
     "name":"stdout",
     "text":[
      "You are already Logout\n"
     ],
     "output_type":"stream"
    }
   ],
   "metadata":{
    "datalore":{
     "node_id":"ngp0PZd7Yyfn0iSjxNHFg6",
     "type":"CODE",
     "hide_input_from_viewers":false,
     "hide_output_from_viewers":false
    }
   }
  }
 ],
 "metadata":{
  "kernelspec":{
   "display_name":"Python",
   "language":"python",
   "name":"python"
  },
  "datalore":{
   "version":1,
   "computation_mode":"JUPYTER",
   "package_manager":"pip",
   "base_environment":"default",
   "packages":[
    
   ]
  }
 },
 "nbformat":4,
 "nbformat_minor":4
}