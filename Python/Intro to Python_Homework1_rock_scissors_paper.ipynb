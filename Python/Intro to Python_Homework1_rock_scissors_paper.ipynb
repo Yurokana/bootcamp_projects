{
 "cells":[
  {
   "cell_type":"markdown",
   "source":[
    "# Pao Ying Chub"
   ],
   "attachments":{
    
   },
   "metadata":{
    "datalore":{
     "node_id":"Pao Ying Chub",
     "type":"MD",
     "hide_input_from_viewers":false,
     "hide_output_from_viewers":false,
     "sheet_delimiter":true
    }
   }
  },
  {
   "cell_type":"markdown",
   "source":[
    "## Homework 1\n",
    "\n",
    "### Pao Ying Chub by Python\n",
    "\n",
    "Date: 16 January 2023\n",
    "\n",
    "Author: Supawit Srisupap"
   ],
   "attachments":{
    
   },
   "metadata":{
    "datalore":{
     "node_id":"rPnI6RZ1pdOk5E7GYhJLjQ",
     "type":"MD",
     "hide_input_from_viewers":false,
     "hide_output_from_viewers":false
    }
   }
  },
  {
   "cell_type":"code",
   "source":[
    "# Greeting\n",
    "import pandas as pd\n",
    "print(\"Welcome adventurer!!!\")\n",
    "username = input('Enter your name: ')\n",
    "print(f'Hi! {username},. I assume that you know the rules.')\n",
    "print(\"Tell me when you are ready.\")\n",
    "ready = input('Press any key to start the game: ')\n",
    "\n",
    "#setup\n",
    "import random\n",
    "rounds = int(1)\n",
    "p_weapon = []\n",
    "b_weapon = []\n",
    "result_round = []\n",
    "player_weapon = 0\n",
    "weapon_list = [1,2,3]\n",
    "weapon_name = ['Rock','Scissors','Paper']\n",
    "play_more = '1'\n",
    "#game\n",
    "while play_more == '1':\n",
    "    print(f'Round {rounds}')\n",
    "    print(\"Choose your weapon...\")\n",
    "    print(\"[1]Rock  [2]Scissors  [3]Paper\")\n",
    "    while str(player_weapon) not in str(weapon_list):\n",
    "        print('Please select 1-3')\n",
    "        player_weapon = input('My weapon is: ')\n",
    "\n",
    "    bot_weapon = random.choice(weapon_list)\n",
    "    print(f'Your weapon is: {weapon_name[int(player_weapon) - 1]}')\n",
    "    print(f'Bot weapon is: {weapon_name[int(bot_weapon) - 1]}')\n",
    "    if  int(player_weapon) - int(bot_weapon) == -1:\n",
    "        print(\"Look like you are...\")\n",
    "        print(\"---------------------------\")\n",
    "        print(\"Win\")\n",
    "        print(\"---------------------------\")\n",
    "        result_round.append('Win')\n",
    "            \n",
    "    if  int(player_weapon) - int(bot_weapon) == 2:\n",
    "        print(\"Look like you are...\")\n",
    "        print(\"---------------------------\")\n",
    "        print(\"Win\")\n",
    "        print(\"---------------------------\")\n",
    "        result_round.append('Win')\n",
    "            \n",
    "    if  int(player_weapon) - int(bot_weapon) == 0:\n",
    "        print(\"Look like you are...\")\n",
    "        print(\"---------------------------\")\n",
    "        print(\"Tie\")\n",
    "        print(\"---------------------------\")\n",
    "        result_round.append('Tie')\n",
    "        \n",
    "    if  int(bot_weapon) - int(player_weapon) == -1:\n",
    "        print(\"Look like you are...\")\n",
    "        print(\"---------------------------\")\n",
    "        print(\"Lose\")\n",
    "        print(\"---------------------------\")\n",
    "        result_round.append('Lose')\n",
    "\n",
    "    if  int(bot_weapon) - int(player_weapon) == 2:\n",
    "        print(\"Look like you are...\")\n",
    "        print(\"---------------------------\")\n",
    "        print(\"Lose\")\n",
    "        print(\"---------------------------\")\n",
    "        result_round.append('Lose')\n",
    "\n",
    "    p_weapon.append(weapon_name[int(player_weapon) - 1])\n",
    "    b_weapon.append(weapon_name[int(bot_weapon) - 1])\n",
    "    play_more = str(input('Play more? [1]Yes [Any]No: '))\n",
    "    rounds += 1\n",
    "    player_weapon = 0\n",
    "\n",
    "    if  play_more != '1':\n",
    "        print('The results is...')\n",
    "        data = {\n",
    "            \"Player\": p_weapon,\n",
    "            \"Bot\":b_weapon,\n",
    "            \"Result\": result_round\n",
    "        }\n",
    "        result_table = pd.DataFrame(data)\n",
    "        print(result_table)\n",
    "        win_rate = result_round.count('Win')\/len(result_round)*100\n",
    "        tie_rate = result_round.count('Tie')\/len(result_round)*100\n",
    "        lose_rate = result_round.count('Lose')\/len(result_round)*100\n",
    "        print(f'Your win rate is: {win_rate}%')\n",
    "        print(f'Your tie rate is: {tie_rate}%')\n",
    "        print(f'Your lose rate is: {lose_rate}%')"
   ],
   "execution_count":5,
   "outputs":[
    {
     "name":"stdout",
     "text":[
      "Welcome adventurer!!!\n",
      "Enter your name:  ok\n",
      "Hi! ok,. I assume that you know the rules.\n",
      "Tell me when you are ready.\n",
      "Press any key to start the game:  1\n",
      "Round 1\n",
      "Choose your weapon...\n",
      "[1]Rock  [2]Scissors  [3]Paper\n",
      "Please select 1-3\n",
      "My weapon is:  1\n",
      "Your weapon is: Rock\n",
      "Bot weapon is: Paper\n",
      "Look like you are...\n",
      "---------------------------\n",
      "Lose\n",
      "---------------------------\n",
      "Play more? [1]Yes [Any]No:  1\n",
      "Round 2\n",
      "Choose your weapon...\n",
      "[1]Rock  [2]Scissors  [3]Paper\n",
      "Please select 1-3\n",
      "My weapon is:  2\n",
      "Your weapon is: Scissors\n",
      "Bot weapon is: Rock\n",
      "Look like you are...\n",
      "---------------------------\n",
      "Lose\n",
      "---------------------------\n",
      "Play more? [1]Yes [Any]No:  1\n",
      "Round 3\n",
      "Choose your weapon...\n",
      "[1]Rock  [2]Scissors  [3]Paper\n",
      "Please select 1-3\n",
      "My weapon is:  3\n",
      "Your weapon is: Paper\n",
      "Bot weapon is: Scissors\n",
      "Look like you are...\n",
      "---------------------------\n",
      "Lose\n",
      "---------------------------\n",
      "Play more? [1]Yes [Any]No:  3\n",
      "The results is...\n",
      "     Player       Bot Result\n",
      "0      Rock     Paper   Lose\n",
      "1  Scissors      Rock   Lose\n",
      "2     Paper  Scissors   Lose\n",
      "Your win rate is: 0.0%\n",
      "Your tie rate is: 0.0%\n",
      "Your lose rate is: 100.0%\n"
     ],
     "output_type":"stream"
    }
   ],
   "metadata":{
    "datalore":{
     "node_id":"ICWQBqMHxC3BJGyCCDwn4u",
     "type":"CODE",
     "hide_input_from_viewers":false,
     "hide_output_from_viewers":false
    }
   }
  },
  {
   "cell_type":"code",
   "source":[
    
   ],
   "execution_count":null,
   "outputs":[
    
   ],
   "metadata":{
    "datalore":{
     "node_id":"GUwAWSgL3m4gieK83iDVMA",
     "type":"CODE",
     "hide_input_from_viewers":false,
     "hide_output_from_viewers":false
    }
   }
  }
 ],
 "metadata":{
  "kernelspec":{
   "display_name":"Python",
   "language":"python",
   "name":"python"
  },
  "datalore":{
   "version":1,
   "computation_mode":"JUPYTER",
   "package_manager":"pip",
   "base_environment":"default",
   "packages":[
    
   ]
  }
 },
 "nbformat":4,
 "nbformat_minor":4
}